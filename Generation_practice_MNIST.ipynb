{
  "nbformat": 4,
  "nbformat_minor": 0,
  "metadata": {
    "colab": {
      "name": "Generation practice MNIST",
      "provenance": [],
      "collapsed_sections": []
    },
    "kernelspec": {
      "display_name": "Python 3",
      "name": "python3"
    },
    "language_info": {
      "name": "python"
    }
  },
  "cells": [
    {
      "cell_type": "code",
      "metadata": {
        "colab": {
          "base_uri": "https://localhost:8080/"
        },
        "id": "wqjYwPLSOlPE",
        "outputId": "4c7736c6-cb6f-4641-ad24-19b88086d069"
      },
      "source": [
        "import torch\n",
        "print(torch.__version__)\n",
        "\n",
        "import torchvision\n",
        "from torchvision import datasets, transforms\n",
        "\n",
        "mnist_trainset = datasets.MNIST(root='./data', train=True, download=True, )\n",
        "mnist_testset = datasets.MNIST(root='./data', train=False, download=True, )\n",
        "\n",
        "print(len(mnist_trainset))\n",
        "print(len(mnist_testset))"
      ],
      "execution_count": null,
      "outputs": [
        {
          "output_type": "stream",
          "text": [
            "1.9.0+cu102\n",
            "60000\n",
            "10000\n"
          ],
          "name": "stdout"
        },
        {
          "output_type": "stream",
          "text": [
            "/usr/local/lib/python3.7/dist-packages/torchvision/datasets/mnist.py:498: UserWarning: The given NumPy array is not writeable, and PyTorch does not support non-writeable tensors. This means you can write to the underlying (supposedly non-writeable) NumPy array using the tensor. You may want to copy the array to protect its data or make it writeable before converting it to a tensor. This type of warning will be suppressed for the rest of this program. (Triggered internally at  /pytorch/torch/csrc/utils/tensor_numpy.cpp:180.)\n",
            "  return torch.from_numpy(parsed.astype(m[2], copy=False)).view(*s)\n"
          ],
          "name": "stderr"
        }
      ]
    },
    {
      "cell_type": "code",
      "metadata": {
        "colab": {
          "base_uri": "https://localhost:8080/",
          "height": 298
        },
        "id": "i46ccej_TLpP",
        "outputId": "363e640d-e00b-414f-c4ed-5e2b50e34a31"
      },
      "source": [
        "import matplotlib.pyplot as plt\n",
        "\n",
        "i = 2\n",
        "example = mnist_trainset[i]\n",
        "img = example[0]\n",
        "label = example[1]\n",
        "plt.imshow(img)\n",
        "print(label)\n",
        "\n",
        "trans = transforms.ToTensor()\n",
        "tensor = trans(img).view(28*28)\n",
        "print(tensor.shape)"
      ],
      "execution_count": null,
      "outputs": [
        {
          "output_type": "stream",
          "text": [
            "4\n",
            "torch.Size([784])\n"
          ],
          "name": "stdout"
        },
        {
          "output_type": "display_data",
          "data": {
            "image/png": "[encoded data removed]",
            "text/plain": [
              "<Figure size 432x288 with 1 Axes>"
            ]
          },
          "metadata": {
            "tags": [],
            "needs_background": "light"
          }
        }
      ]
    },
    {
      "cell_type": "code",
      "metadata": {
        "colab": {
          "base_uri": "https://localhost:8080/"
        },
        "id": "G8XrBJeaYNe4",
        "outputId": "2b417cf6-bbfd-45d3-fae3-afc93e62c713"
      },
      "source": [
        "import torch.nn as nn\n",
        "\n",
        "W1 = torch.nn.Parameter(torch.zeros(64, 32).uniform_(-0.1, 0.1))\n",
        "b = torch.nn.Parameter(torch.zeros(64).uniform_(-0.1, 0.1))\n",
        "W2 = torch.nn.Parameter(torch.zeros(784, 64).uniform_(-0.1, 0.1))\n",
        "\n",
        "W3 = torch.nn.Parameter(torch.zeros(32, 784).uniform_(-0.1, 0.1))\n",
        "c = torch.nn.Parameter(torch.zeros(32).uniform_(-0.1, 0.1))\n",
        "W4 = torch.nn.Parameter(torch.zeros(32, 32).uniform_(-0.1, 0.1))\n",
        "\n",
        "print(W1)"
      ],
      "execution_count": null,
      "outputs": [
        {
          "output_type": "stream",
          "text": [
            "Parameter containing:\n",
            "tensor([[-0.0609,  0.0857, -0.0172,  ...,  0.0725, -0.0984, -0.0167],\n",
            "        [-0.0793, -0.0230,  0.0846,  ...,  0.0411,  0.0824, -0.0198],\n",
            "        [-0.0936, -0.0046, -0.0199,  ..., -0.0255,  0.0592,  0.0505],\n",
            "        ...,\n",
            "        [ 0.0662, -0.0206,  0.0958,  ...,  0.0221, -0.0791, -0.0789],\n",
            "        [ 0.0888, -0.0290,  0.0233,  ..., -0.0146,  0.0325, -0.0312],\n",
            "        [-0.0750, -0.0134, -0.0821,  ...,  0.0397,  0.0233,  0.0071]],\n",
            "       requires_grad=True)\n"
          ],
          "name": "stdout"
        }
      ]
    },
    {
      "cell_type": "code",
      "metadata": {
        "colab": {
          "base_uri": "https://localhost:8080/"
        },
        "id": "_RdTLynKb2o3",
        "outputId": "5fca2d43-410d-4c1d-e150-107ed23950ae"
      },
      "source": [
        "import math\n",
        "lr = 1e-4\n",
        "sig1 = 1.5\n",
        "sig2 = 2\n",
        "k = 2\n",
        "import random\n",
        "\n",
        "optimizer = torch.optim.Adam([W1, b, W2, W3, c, W4], lr=lr)\n",
        "\n",
        "losses = []\n",
        "updates = []\n",
        "update = 0\n",
        "import tqdm\n",
        "for epoch in range(5):\n",
        "  for num in tqdm.tqdm(range(len(mnist_trainset))):\n",
        "    i = random.randint(0, 4999)\n",
        "    example = mnist_trainset[i]\n",
        "    label = example[1]\n",
        "\n",
        "    epsilon = torch.randn(32)\n",
        "    optimizer.zero_grad()\n",
        "    img = example[0]\n",
        "    tensor = trans(img).view(28*28)\n",
        "    \n",
        "    Mu = W4 @ torch.relu(W3 @ tensor + c)\n",
        "    z = Mu + math.sqrt(sig2) * epsilon\n",
        "    Y = W2 @ torch.relu(W1 @ z + b)\n",
        "  \n",
        "    loss = math.log(sig1) + 0.5 * torch.dot((tensor - Y), (tensor - Y)) / (sig1 * sig1) + 0.5 * (sig2 + torch.transpose(Mu, 0, -1) @ Mu - k - math.log(sig2)) \n",
        "    update += 1\n",
        "    updates.append(update)\n",
        "    losses.append(loss.item())\n",
        "    loss.backward()\n",
        "    optimizer.step()\n",
        "\n"
      ],
      "execution_count": null,
      "outputs": [
        {
          "output_type": "stream",
          "text": [
            "100%|██████████| 60000/60000 [01:54<00:00, 525.23it/s]\n",
            "100%|██████████| 60000/60000 [02:10<00:00, 458.06it/s]\n",
            "100%|██████████| 60000/60000 [02:17<00:00, 436.80it/s]\n",
            "100%|██████████| 60000/60000 [02:24<00:00, 416.21it/s]\n",
            "100%|██████████| 60000/60000 [02:54<00:00, 344.21it/s]\n"
          ],
          "name": "stderr"
        }
      ]
    },
    {
      "cell_type": "code",
      "metadata": {
        "colab": {
          "base_uri": "https://localhost:8080/",
          "height": 282
        },
        "id": "4IF2L-0c9Dgn",
        "outputId": "cab8fcba-5b2b-42ec-9c8c-0884f169c016"
      },
      "source": [
        "import matplotlib.pyplot as plt\n",
        "plt.plot(updates, losses, 'r.')"
      ],
      "execution_count": null,
      "outputs": [
        {
          "output_type": "execute_result",
          "data": {
            "text/plain": [
              "[<matplotlib.lines.Line2D at 0x7ffb123ce790>]"
            ]
          },
          "metadata": {
            "tags": []
          },
          "execution_count": 120
        },
        {
          "output_type": "display_data",
          "data": {
            "image/png": "[encoded data removed]",
            "text/plain": [
              "<Figure size 432x288 with 1 Axes>"
            ]
          },
          "metadata": {
            "tags": [],
            "needs_background": "light"
          }
        }
      ]
    },
    {
      "cell_type": "code",
      "metadata": {
        "id": "N8katFfn9F7I"
      },
      "source": [
        ""
      ],
      "execution_count": null,
      "outputs": []
    },
    {
      "cell_type": "code",
      "metadata": {
        "colab": {
          "base_uri": "https://localhost:8080/",
          "height": 298
        },
        "id": "ftIAMhFQnthL",
        "outputId": "88091bc5-c471-47e4-f138-b70d8ac4ddf3"
      },
      "source": [
        "epsilon = torch.randn(32)\n",
        "sig1 = 1.5\n",
        "sig2 = 2\n",
        "k = 2\n",
        "\n",
        "Mu = W4 @ torch.relu(W3 @ tensor + c)\n",
        "z = Mu + math.sqrt(sig2) * epsilon\n",
        "Y = W2 @ torch.relu(W1 @ z + b)\n",
        "\n",
        "print(Y.shape)\n",
        "plt.imshow(Y.view(28,28).detach())"
      ],
      "execution_count": null,
      "outputs": [
        {
          "output_type": "stream",
          "text": [
            "torch.Size([784])\n"
          ],
          "name": "stdout"
        },
        {
          "output_type": "execute_result",
          "data": {
            "text/plain": [
              "<matplotlib.image.AxesImage at 0x7ffb1483a2d0>"
            ]
          },
          "metadata": {
            "tags": []
          },
          "execution_count": 93
        },
        {
          "output_type": "display_data",
          "data": {
            "image/png": "[encoded data removed]",
            "text/plain": [
              "<Figure size 432x288 with 1 Axes>"
            ]
          },
          "metadata": {
            "tags": [],
            "needs_background": "light"
          }
        }
      ]
    },
    {
      "cell_type": "code",
      "metadata": {
        "colab": {
          "base_uri": "https://localhost:8080/",
          "height": 366
        },
        "id": "iZ1Nyal3CZAu",
        "outputId": "015ddeab-94fa-40df-8412-cbb231bf6ead"
      },
      "source": [
        "z2 = torch.randn(32)\n",
        "print(z2)\n",
        "test = W2 @ torch.relu(W1 @ z2 + b)\n",
        "print(test.shape)\n",
        "plt.imshow(test.view(28,28).detach())"
      ],
      "execution_count": null,
      "outputs": [
        {
          "output_type": "stream",
          "text": [
            "tensor([-1.5231,  0.3576, -0.7367, -0.6349, -0.3115,  1.0443,  0.1748, -0.1539,\n",
            "        -0.3448,  0.3411, -0.6377, -0.5540,  2.0484, -0.3068, -0.3568,  0.7738,\n",
            "        -0.3745,  1.2695,  0.9244, -2.9620,  0.0589,  1.8180,  0.6686, -0.5477,\n",
            "        -0.1609, -0.6082,  0.3165, -2.3418, -1.0985, -3.3847, -0.0995, -0.7740])\n",
            "torch.Size([784])\n"
          ],
          "name": "stdout"
        },
        {
          "output_type": "execute_result",
          "data": {
            "text/plain": [
              "<matplotlib.image.AxesImage at 0x7ffb11f56110>"
            ]
          },
          "metadata": {
            "tags": []
          },
          "execution_count": 132
        },
        {
          "output_type": "display_data",
          "data": {
            "image/png": "[encoded data removed]",
            "text/plain": [
              "<Figure size 432x288 with 1 Axes>"
            ]
          },
          "metadata": {
            "tags": [],
            "needs_background": "light"
          }
        }
      ]
    },
    {
      "cell_type": "code",
      "metadata": {
        "colab": {
          "base_uri": "https://localhost:8080/"
        },
        "id": "fCirgZb677dR",
        "outputId": "f44af091-cddb-4106-ff27-a7ed0a5dad20"
      },
      "source": [
        "random = torch.randn(5)\n",
        "print(random)\n",
        "print(2*random)"
      ],
      "execution_count": null,
      "outputs": [
        {
          "output_type": "stream",
          "text": [
            "tensor([-1.3896,  0.5334,  1.2020, -1.3717, -1.4105])\n",
            "tensor([-2.7791,  1.0667,  2.4040, -2.7435, -2.8210])\n"
          ],
          "name": "stdout"
        }
      ]
    },
    {
      "cell_type": "code",
      "metadata": {
        "colab": {
          "base_uri": "https://localhost:8080/"
        },
        "id": "2JmYPhQC94Wv",
        "outputId": "d65d3f38-e290-477a-8e47-2889907c72bf"
      },
      "source": [
        "import math\n",
        "test = 0.1\n",
        "print(math.log(test))"
      ],
      "execution_count": null,
      "outputs": [
        {
          "output_type": "stream",
          "text": [
            "-2.3025850929940455\n"
          ],
          "name": "stdout"
        }
      ]
    }
  ]
}